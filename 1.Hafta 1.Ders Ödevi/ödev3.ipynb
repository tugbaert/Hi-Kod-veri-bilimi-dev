{
 "cells": [
  {
   "cell_type": "markdown",
   "id": "e7a190f3",
   "metadata": {},
   "source": [
    "Ödev-3: Kullanıcıdan iki değer girmesini istenir. Girilen değerlerin toplama, çıkarma, çarpma, bölme sonuçlarını yazdırılır."
   ]
  },
  {
   "cell_type": "code",
   "execution_count": 3,
   "id": "8b6773e5",
   "metadata": {},
   "outputs": [
    {
     "name": "stdout",
     "output_type": "stream",
     "text": [
      "Birinci değeri giriniz: 12\n",
      "İkinci değeri giriniz: 5\n"
     ]
    }
   ],
   "source": [
    "x=int(input(\"Birinci değeri giriniz: \"))\n",
    "y=int(input(\"İkinci değeri giriniz: \"))"
   ]
  },
  {
   "cell_type": "code",
   "execution_count": 7,
   "id": "bf5ae733",
   "metadata": {},
   "outputs": [
    {
     "name": "stdout",
     "output_type": "stream",
     "text": [
      "Toplam= 17\n",
      "Fark= 7\n",
      "Çarpım= 60\n",
      "Bölüm= 2.4\n"
     ]
    }
   ],
   "source": [
    "toplam=x+y\n",
    "fark=x-y\n",
    "carpim=x*y\n",
    "bolum=x/y\n",
    "print(\"Toplam=\",toplam)\n",
    "print(\"Fark=\",fark)\n",
    "print(\"Çarpım=\",carpim)\n",
    "print(\"Bölüm=\",bolum)"
   ]
  }
 ],
 "metadata": {
  "kernelspec": {
   "display_name": "Python 3 (ipykernel)",
   "language": "python",
   "name": "python3"
  },
  "language_info": {
   "codemirror_mode": {
    "name": "ipython",
    "version": 3
   },
   "file_extension": ".py",
   "mimetype": "text/x-python",
   "name": "python",
   "nbconvert_exporter": "python",
   "pygments_lexer": "ipython3",
   "version": "3.11.7"
  },
  "widgets": {
   "application/vnd.jupyter.widget-state+json": {
    "state": {},
    "version_major": 2,
    "version_minor": 0
   }
  }
 },
 "nbformat": 4,
 "nbformat_minor": 5
}
