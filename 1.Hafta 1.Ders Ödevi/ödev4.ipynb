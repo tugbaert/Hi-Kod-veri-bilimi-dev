{
 "cells": [
  {
   "cell_type": "markdown",
   "id": "287e3cfc",
   "metadata": {},
   "source": [
    "Ödev-4: Kullanıcıdan isim, yaş, şehir ve meslek bilgilerini istenir ve cevaplarını yazdırılır."
   ]
  },
  {
   "cell_type": "code",
   "execution_count": 3,
   "id": "7a69ef36",
   "metadata": {},
   "outputs": [
    {
     "name": "stdout",
     "output_type": "stream",
     "text": [
      "İsminizi giriniz: Tuğba\n",
      "Yaşınızı giriniz: 20\n",
      "Yaşadığınız şehri giriniz: Tokat\n",
      "Mesleğinizi giriniz: Öğrenci\n",
      "Merhaba Tuğba. 20 yaşında Tokat şehrinde Öğrenci mesleğini yapmaktasın.\n"
     ]
    }
   ],
   "source": [
    "isim=input(\"İsminizi giriniz: \")\n",
    "yas=input(\"Yaşınızı giriniz: \")\n",
    "sehir=input(\"Yaşadığınız şehri giriniz: \")\n",
    "meslek=input(\"Mesleğinizi giriniz: \")\n",
    "print(\"Merhaba \"+isim+\". \"+yas+\" yaşında \"+sehir+\" şehrinde \"+meslek+\" mesleğini yapmaktasın.\")"
   ]
  },
  {
   "cell_type": "code",
   "execution_count": null,
   "id": "d49afa71",
   "metadata": {},
   "outputs": [],
   "source": []
  }
 ],
 "metadata": {
  "kernelspec": {
   "display_name": "Python 3 (ipykernel)",
   "language": "python",
   "name": "python3"
  },
  "language_info": {
   "codemirror_mode": {
    "name": "ipython",
    "version": 3
   },
   "file_extension": ".py",
   "mimetype": "text/x-python",
   "name": "python",
   "nbconvert_exporter": "python",
   "pygments_lexer": "ipython3",
   "version": "3.11.7"
  },
  "widgets": {
   "application/vnd.jupyter.widget-state+json": {
    "state": {},
    "version_major": 2,
    "version_minor": 0
   }
  }
 },
 "nbformat": 4,
 "nbformat_minor": 5
}
