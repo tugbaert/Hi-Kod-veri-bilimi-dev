{
 "cells": [
  {
   "cell_type": "markdown",
   "id": "246acbcc",
   "metadata": {},
   "source": [
    "Ödev-2: İsimlerden oluşan üç değişkene yaş değerleri atanır. Belirlenen üç değişken birbiriyle karşılaştırma operatörleri ile karşılaştırılır. Bu karşılaştırmalara mantıksal operatörler de eklenir."
   ]
  },
  {
   "cell_type": "code",
   "execution_count": 1,
   "id": "c0d47aea",
   "metadata": {},
   "outputs": [],
   "source": [
    "tugba=20\n",
    "sifa=15\n",
    "ceren=32"
   ]
  },
  {
   "cell_type": "code",
   "execution_count": 2,
   "id": "dcaf07e0",
   "metadata": {},
   "outputs": [
    {
     "data": {
      "text/plain": [
       "True"
      ]
     },
     "execution_count": 2,
     "metadata": {},
     "output_type": "execute_result"
    }
   ],
   "source": [
    "tugba<=ceren"
   ]
  },
  {
   "cell_type": "code",
   "execution_count": 3,
   "id": "cd5f1ba1",
   "metadata": {},
   "outputs": [
    {
     "data": {
      "text/plain": [
       "True"
      ]
     },
     "execution_count": 3,
     "metadata": {},
     "output_type": "execute_result"
    }
   ],
   "source": [
    "ceren<tugba or sifa<ceren"
   ]
  },
  {
   "cell_type": "code",
   "execution_count": 4,
   "id": "57c869e2",
   "metadata": {},
   "outputs": [
    {
     "data": {
      "text/plain": [
       "False"
      ]
     },
     "execution_count": 4,
     "metadata": {},
     "output_type": "execute_result"
    }
   ],
   "source": [
    "ceren<tugba or not sifa<ceren"
   ]
  },
  {
   "cell_type": "code",
   "execution_count": 5,
   "id": "bcde21cb",
   "metadata": {},
   "outputs": [
    {
     "data": {
      "text/plain": [
       "False"
      ]
     },
     "execution_count": 5,
     "metadata": {},
     "output_type": "execute_result"
    }
   ],
   "source": [
    "not sifa!=tugba"
   ]
  },
  {
   "cell_type": "code",
   "execution_count": 6,
   "id": "7b7a7935",
   "metadata": {},
   "outputs": [
    {
     "data": {
      "text/plain": [
       "True"
      ]
     },
     "execution_count": 6,
     "metadata": {},
     "output_type": "execute_result"
    }
   ],
   "source": [
    "sifa<tugba and sifa<ceren"
   ]
  },
  {
   "cell_type": "code",
   "execution_count": 7,
   "id": "77617b47",
   "metadata": {},
   "outputs": [
    {
     "data": {
      "text/plain": [
       "False"
      ]
     },
     "execution_count": 7,
     "metadata": {},
     "output_type": "execute_result"
    }
   ],
   "source": [
    "not sifa<=tugba and sifa<=ceren"
   ]
  },
  {
   "cell_type": "code",
   "execution_count": 8,
   "id": "67b5ee16",
   "metadata": {},
   "outputs": [
    {
     "data": {
      "text/plain": [
       "False"
      ]
     },
     "execution_count": 8,
     "metadata": {},
     "output_type": "execute_result"
    }
   ],
   "source": [
    "ceren>sifa and not tugba>=sifa"
   ]
  },
  {
   "cell_type": "code",
   "execution_count": 9,
   "id": "2098a6aa",
   "metadata": {},
   "outputs": [
    {
     "data": {
      "text/plain": [
       "True"
      ]
     },
     "execution_count": 9,
     "metadata": {},
     "output_type": "execute_result"
    }
   ],
   "source": [
    "ceren>=sifa and tugba>sifa"
   ]
  },
  {
   "cell_type": "code",
   "execution_count": 11,
   "id": "a11ae659",
   "metadata": {},
   "outputs": [
    {
     "data": {
      "text/plain": [
       "True"
      ]
     },
     "execution_count": 11,
     "metadata": {},
     "output_type": "execute_result"
    }
   ],
   "source": [
    "sifa!=tugba"
   ]
  },
  {
   "cell_type": "code",
   "execution_count": null,
   "id": "23a434b3",
   "metadata": {},
   "outputs": [],
   "source": []
  }
 ],
 "metadata": {
  "kernelspec": {
   "display_name": "Python 3 (ipykernel)",
   "language": "python",
   "name": "python3"
  },
  "language_info": {
   "codemirror_mode": {
    "name": "ipython",
    "version": 3
   },
   "file_extension": ".py",
   "mimetype": "text/x-python",
   "name": "python",
   "nbconvert_exporter": "python",
   "pygments_lexer": "ipython3",
   "version": "3.11.7"
  },
  "widgets": {
   "application/vnd.jupyter.widget-state+json": {
    "state": {},
    "version_major": 2,
    "version_minor": 0
   }
  }
 },
 "nbformat": 4,
 "nbformat_minor": 5
}
