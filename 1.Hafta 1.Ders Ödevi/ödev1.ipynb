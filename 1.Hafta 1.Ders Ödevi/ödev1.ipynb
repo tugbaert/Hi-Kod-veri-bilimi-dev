{
 "cells": [
  {
   "cell_type": "markdown",
   "id": "c710fcaa",
   "metadata": {},
   "source": [
    "Ödev-1:Değişkenlere atanmış değerlerin veri tipleri arasında dönüşüm yapılır."
   ]
  },
  {
   "cell_type": "code",
   "execution_count": 18,
   "id": "d86435a0",
   "metadata": {},
   "outputs": [],
   "source": [
    "x=5\n",
    "y=\"6\"\n",
    "z=52.3\n",
    "t=0\n",
    "metin=\"ödev1\"\n",
    "varMi=True\n",
    "dene=\"65.8\""
   ]
  },
  {
   "cell_type": "code",
   "execution_count": 4,
   "id": "94ead39b",
   "metadata": {},
   "outputs": [
    {
     "data": {
      "text/plain": [
       "int"
      ]
     },
     "execution_count": 4,
     "metadata": {},
     "output_type": "execute_result"
    }
   ],
   "source": [
    "type(x)"
   ]
  },
  {
   "cell_type": "code",
   "execution_count": 14,
   "id": "4294eb6a",
   "metadata": {},
   "outputs": [
    {
     "name": "stdout",
     "output_type": "stream",
     "text": [
      "5\n"
     ]
    }
   ],
   "source": [
    "type(float(x))\n",
    "print(x)"
   ]
  },
  {
   "cell_type": "code",
   "execution_count": 8,
   "id": "a843a1d9",
   "metadata": {},
   "outputs": [
    {
     "name": "stdout",
     "output_type": "stream",
     "text": [
      "<class 'int'>\n"
     ]
    }
   ],
   "source": [
    "print(type(int(y)))"
   ]
  },
  {
   "cell_type": "code",
   "execution_count": 13,
   "id": "4209b6ea",
   "metadata": {},
   "outputs": [
    {
     "name": "stdout",
     "output_type": "stream",
     "text": [
      "52.3\n"
     ]
    }
   ],
   "source": [
    "type(int(z))\n",
    "print(z)"
   ]
  },
  {
   "cell_type": "code",
   "execution_count": 10,
   "id": "ae9a2377",
   "metadata": {},
   "outputs": [
    {
     "name": "stdout",
     "output_type": "stream",
     "text": [
      "52.3\n"
     ]
    }
   ],
   "source": [
    "print(z)"
   ]
  },
  {
   "cell_type": "code",
   "execution_count": 11,
   "id": "0dc3f6a2",
   "metadata": {},
   "outputs": [
    {
     "data": {
      "text/plain": [
       "float"
      ]
     },
     "execution_count": 11,
     "metadata": {},
     "output_type": "execute_result"
    }
   ],
   "source": [
    "type(z)"
   ]
  },
  {
   "cell_type": "code",
   "execution_count": 27,
   "id": "5aa5fb6f",
   "metadata": {},
   "outputs": [
    {
     "name": "stdout",
     "output_type": "stream",
     "text": [
      "<class 'int'>\n",
      "52.3\n"
     ]
    }
   ],
   "source": [
    "\n",
    "print(type(int(z)))\n",
    "print(z)   #Madem artık integer neden 52 değil de 52.3 yazıyor anlamadım."
   ]
  },
  {
   "cell_type": "code",
   "execution_count": 16,
   "id": "1c9098fc",
   "metadata": {},
   "outputs": [
    {
     "name": "stdout",
     "output_type": "stream",
     "text": [
      "False\n"
     ]
    }
   ],
   "source": [
    "print(bool(t))"
   ]
  },
  {
   "cell_type": "code",
   "execution_count": 17,
   "id": "a2671151",
   "metadata": {},
   "outputs": [
    {
     "name": "stdout",
     "output_type": "stream",
     "text": [
      "1\n"
     ]
    }
   ],
   "source": [
    "print(int(varMi))"
   ]
  },
  {
   "cell_type": "code",
   "execution_count": 20,
   "id": "0643350c",
   "metadata": {},
   "outputs": [
    {
     "name": "stdout",
     "output_type": "stream",
     "text": [
      "65\n"
     ]
    }
   ],
   "source": [
    "print(int(float(dene)))\n"
   ]
  },
  {
   "cell_type": "code",
   "execution_count": 28,
   "id": "357891e8",
   "metadata": {},
   "outputs": [
    {
     "name": "stdout",
     "output_type": "stream",
     "text": [
      "26\n"
     ]
    }
   ],
   "source": [
    "print(int(26.5))"
   ]
  },
  {
   "cell_type": "code",
   "execution_count": 29,
   "id": "b1683955",
   "metadata": {},
   "outputs": [
    {
     "name": "stdout",
     "output_type": "stream",
     "text": [
      "0.0\n"
     ]
    }
   ],
   "source": [
    "print(float(False))"
   ]
  },
  {
   "cell_type": "code",
   "execution_count": 30,
   "id": "8da78fa4",
   "metadata": {},
   "outputs": [
    {
     "name": "stdout",
     "output_type": "stream",
     "text": [
      "False\n"
     ]
    }
   ],
   "source": [
    "print(bool(\"\"))"
   ]
  },
  {
   "cell_type": "code",
   "execution_count": 31,
   "id": "86531214",
   "metadata": {},
   "outputs": [
    {
     "name": "stdout",
     "output_type": "stream",
     "text": [
      "True\n"
     ]
    }
   ],
   "source": [
    "print(bool(\" \"))"
   ]
  },
  {
   "cell_type": "code",
   "execution_count": null,
   "id": "7a1142d7",
   "metadata": {},
   "outputs": [],
   "source": []
  }
 ],
 "metadata": {
  "kernelspec": {
   "display_name": "Python 3 (ipykernel)",
   "language": "python",
   "name": "python3"
  },
  "language_info": {
   "codemirror_mode": {
    "name": "ipython",
    "version": 3
   },
   "file_extension": ".py",
   "mimetype": "text/x-python",
   "name": "python",
   "nbconvert_exporter": "python",
   "pygments_lexer": "ipython3",
   "version": "3.11.7"
  }
 },
 "nbformat": 4,
 "nbformat_minor": 5
}
